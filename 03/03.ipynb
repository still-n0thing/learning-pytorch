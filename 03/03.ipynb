{
 "cells": [
  {
   "cell_type": "code",
   "execution_count": 1,
   "metadata": {},
   "outputs": [
    {
     "name": "stdout",
     "output_type": "stream",
     "text": [
      "Python 3.10.2\n"
     ]
    }
   ],
   "source": [
    "! python --version"
   ]
  },
  {
   "cell_type": "code",
   "execution_count": 2,
   "metadata": {},
   "outputs": [
    {
     "data": {
      "text/plain": [
       "device(type='cuda')"
      ]
     },
     "execution_count": 2,
     "metadata": {},
     "output_type": "execute_result"
    }
   ],
   "source": [
    "import torch\n",
    "device = torch.device([\"cpu\", \"cuda\"][torch.cuda.is_available()])\n",
    "device"
   ]
  },
  {
   "cell_type": "markdown",
   "metadata": {},
   "source": [
    "# Images & Logistic Regression"
   ]
  },
  {
   "cell_type": "code",
   "execution_count": 3,
   "metadata": {},
   "outputs": [],
   "source": [
    "# library\n",
    "import torchvision\n",
    "from torchvision.datasets import MNIST"
   ]
  },
  {
   "cell_type": "code",
   "execution_count": 4,
   "metadata": {},
   "outputs": [],
   "source": [
    "dataset = MNIST(root = 'data/', download=True)"
   ]
  },
  {
   "cell_type": "code",
   "execution_count": 5,
   "metadata": {},
   "outputs": [
    {
     "data": {
      "text/plain": [
       "60000"
      ]
     },
     "execution_count": 5,
     "metadata": {},
     "output_type": "execute_result"
    }
   ],
   "source": [
    "len(dataset)"
   ]
  },
  {
   "cell_type": "code",
   "execution_count": 6,
   "metadata": {},
   "outputs": [
    {
     "data": {
      "text/plain": [
       "10000"
      ]
     },
     "execution_count": 6,
     "metadata": {},
     "output_type": "execute_result"
    }
   ],
   "source": [
    "test_dataset = MNIST(root='data/', train=False)\n",
    "len(test_dataset)"
   ]
  },
  {
   "cell_type": "code",
   "execution_count": 7,
   "metadata": {},
   "outputs": [
    {
     "data": {
      "text/plain": [
       "(<PIL.Image.Image image mode=L size=28x28>, 5)"
      ]
     },
     "execution_count": 7,
     "metadata": {},
     "output_type": "execute_result"
    }
   ],
   "source": [
    "dataset[0]"
   ]
  },
  {
   "cell_type": "code",
   "execution_count": 8,
   "metadata": {},
   "outputs": [],
   "source": [
    "import matplotlib.pyplot as plt\n",
    "%matplotlib inline"
   ]
  },
  {
   "cell_type": "code",
   "execution_count": 9,
   "metadata": {},
   "outputs": [
    {
     "name": "stdout",
     "output_type": "stream",
     "text": [
      "Label: 5\n"
     ]
    },
    {
     "data": {
      "image/png": "[encoded data removed]",
      "text/plain": [
       "<Figure size 432x288 with 1 Axes>"
      ]
     },
     "metadata": {
      "needs_background": "light"
     },
     "output_type": "display_data"
    }
   ],
   "source": [
    "image, label = dataset[0]\n",
    "plt.imshow(image, cmap='gray')\n",
    "print(f'Label: {label}')"
   ]
  },
  {
   "cell_type": "code",
   "execution_count": 10,
   "metadata": {},
   "outputs": [
    {
     "name": "stdout",
     "output_type": "stream",
     "text": [
      "Label: 3\n"
     ]
    },
    {
     "data": {
      "image/png": "[encoded data removed]",
      "text/plain": [
       "<Figure size 432x288 with 1 Axes>"
      ]
     },
     "metadata": {
      "needs_background": "light"
     },
     "output_type": "display_data"
    }
   ],
   "source": [
    "image, label = dataset[10]\n",
    "plt.imshow(image, cmap='gray')\n",
    "print(f'Label: {label}')"
   ]
  },
  {
   "cell_type": "code",
   "execution_count": 11,
   "metadata": {},
   "outputs": [],
   "source": [
    "import torchvision.transforms as transforms"
   ]
  },
  {
   "cell_type": "code",
   "execution_count": 12,
   "metadata": {},
   "outputs": [],
   "source": [
    "dataset = MNIST(root='data/',\n",
    "                train=True,\n",
    "                transform=transforms.ToTensor())"
   ]
  },
  {
   "cell_type": "code",
   "execution_count": 13,
   "metadata": {},
   "outputs": [
    {
     "name": "stdout",
     "output_type": "stream",
     "text": [
      "torch.Size([1, 28, 28]) 5\n"
     ]
    }
   ],
   "source": [
    "img_tensor, label = dataset[0]\n",
    "print(img_tensor.shape, label)"
   ]
  },
  {
   "cell_type": "code",
   "execution_count": 14,
   "metadata": {},
   "outputs": [
    {
     "name": "stdout",
     "output_type": "stream",
     "text": [
      "tensor([[[0.0039, 0.6039, 0.9922, 0.3529, 0.0000],\n",
      "         [0.0000, 0.5451, 0.9922, 0.7451, 0.0078],\n",
      "         [0.0000, 0.0431, 0.7451, 0.9922, 0.2745],\n",
      "         [0.0000, 0.0000, 0.1373, 0.9451, 0.8824],\n",
      "         [0.0000, 0.0000, 0.0000, 0.3176, 0.9412]]])\n",
      "tensor(1.) tensor(0.)\n"
     ]
    }
   ],
   "source": [
    "print(img_tensor[:, 10:15, 10:15])\n",
    "print(torch.max(img_tensor), torch.min(img_tensor))"
   ]
  },
  {
   "cell_type": "code",
   "execution_count": 15,
   "metadata": {},
   "outputs": [
    {
     "data": {
      "text/plain": [
       "<matplotlib.image.AxesImage at 0x13407c597b0>"
      ]
     },
     "execution_count": 15,
     "metadata": {},
     "output_type": "execute_result"
    },
    {
     "data": {
      "image/png": "[encoded data removed]",
      "text/plain": [
       "<Figure size 432x288 with 1 Axes>"
      ]
     },
     "metadata": {
      "needs_background": "light"
     },
     "output_type": "display_data"
    }
   ],
   "source": [
    "plt.imshow(img_tensor[0, 10:15, 10:15], cmap='gray')"
   ]
  },
  {
   "cell_type": "code",
   "execution_count": 16,
   "metadata": {},
   "outputs": [],
   "source": [
    "import numpy as np\n",
    "\n",
    "def split_indices(n, val_pct):\n",
    "    # determine size of validation set\n",
    "    n_val = int(val_pct * n)\n",
    "    # random permuation of 0 to n - 1\n",
    "    idxs = np.random.permutation(n)\n",
    "    # pick first n_val indice for validation set\n",
    "    return idxs[n_val: ], idxs[:n_val]"
   ]
  },
  {
   "cell_type": "code",
   "execution_count": 17,
   "metadata": {},
   "outputs": [],
   "source": [
    "train_indices, val_indices = split_indices(len(dataset), val_pct=0.2)"
   ]
  },
  {
   "cell_type": "code",
   "execution_count": 18,
   "metadata": {},
   "outputs": [
    {
     "name": "stdout",
     "output_type": "stream",
     "text": [
      "48000 12000\n",
      "Sample val indices: [47509 20495 42483  6741 17009  7559 47615 16349 31232 39082 19223 54373\n",
      "  6959 39158  1399 55780 56060 46238 12721 31501]\n"
     ]
    }
   ],
   "source": [
    "print(len(train_indices), len(val_indices))\n",
    "print(f'Sample val indices: {val_indices[:20]}')"
   ]
  },
  {
   "cell_type": "code",
   "execution_count": 19,
   "metadata": {},
   "outputs": [],
   "source": [
    "from torch.utils.data.sampler import SubsetRandomSampler\n",
    "from torch.utils.data.dataloader import DataLoader"
   ]
  },
  {
   "cell_type": "code",
   "execution_count": 20,
   "metadata": {},
   "outputs": [],
   "source": [
    "batch_size = 100\n",
    "\n",
    "# Traning sampler and data loader\n",
    "# SubsetRandomSampler only use indice in train indices\n",
    "train_sampler = SubsetRandomSampler(train_indices) \n",
    "train_loader = DataLoader(dataset,\n",
    "                          batch_size,\n",
    "                          sampler=train_sampler)\n",
    "\n",
    "# Validation sampler and data loader\n",
    "val_sampler = SubsetRandomSampler(val_indices)\n",
    "val_loader = DataLoader(dataset, \n",
    "                        batch_size,\n",
    "                        sampler=val_sampler)"
   ]
  },
  {
   "cell_type": "code",
   "execution_count": 21,
   "metadata": {},
   "outputs": [],
   "source": [
    "import torch.nn as nn\n",
    "\n",
    "input_size = 28 * 28\n",
    "num_classes = 10\n",
    "\n",
    "# Logistic Regression Model\n",
    "model = nn.Linear(input_size, num_classes)"
   ]
  },
  {
   "cell_type": "code",
   "execution_count": 22,
   "metadata": {},
   "outputs": [
    {
     "name": "stdout",
     "output_type": "stream",
     "text": [
      "torch.Size([10, 784])\n"
     ]
    },
    {
     "data": {
      "text/plain": [
       "Parameter containing:\n",
       "tensor([[-0.0187, -0.0068,  0.0106,  ...,  0.0050,  0.0005, -0.0039],\n",
       "        [ 0.0101, -0.0126,  0.0216,  ..., -0.0159,  0.0109, -0.0116],\n",
       "        [ 0.0069,  0.0209, -0.0167,  ..., -0.0103, -0.0307, -0.0338],\n",
       "        ...,\n",
       "        [-0.0140,  0.0123,  0.0230,  ...,  0.0067, -0.0328,  0.0292],\n",
       "        [-0.0075,  0.0340, -0.0047,  ..., -0.0080, -0.0217,  0.0273],\n",
       "        [-0.0288, -0.0030,  0.0204,  ..., -0.0118,  0.0096,  0.0096]],\n",
       "       requires_grad=True)"
      ]
     },
     "execution_count": 22,
     "metadata": {},
     "output_type": "execute_result"
    }
   ],
   "source": [
    "print(model.weight.shape)\n",
    "model.weight"
   ]
  },
  {
   "cell_type": "code",
   "execution_count": 23,
   "metadata": {},
   "outputs": [
    {
     "name": "stdout",
     "output_type": "stream",
     "text": [
      "torch.Size([10])\n"
     ]
    },
    {
     "data": {
      "text/plain": [
       "Parameter containing:\n",
       "tensor([ 0.0272, -0.0283, -0.0269,  0.0239,  0.0142,  0.0315,  0.0117,  0.0261,\n",
       "        -0.0151,  0.0010], requires_grad=True)"
      ]
     },
     "execution_count": 23,
     "metadata": {},
     "output_type": "execute_result"
    }
   ],
   "source": [
    "print(model.bias.shape)\n",
    "model.bias"
   ]
  },
  {
   "cell_type": "code",
   "execution_count": 24,
   "metadata": {},
   "outputs": [],
   "source": [
    "# for images, labels in train_loader:\n",
    "#     print(labels)\n",
    "#     print(images.shape)\n",
    "#     outputs = model(images)\n",
    "#     break"
   ]
  },
  {
   "cell_type": "code",
   "execution_count": 25,
   "metadata": {},
   "outputs": [],
   "source": [
    "class MnistModel(nn.Module):\n",
    "    def __init__(self):\n",
    "        super().__init__()\n",
    "        self.linear = nn.Linear(input_size, num_classes)\n",
    "    \n",
    "    def forward(self, xb):\n",
    "        xb = xb.reshape(-1, 28 * 28)\n",
    "        out = self.linear(xb)\n",
    "        return out\n",
    "\n",
    "model = MnistModel()"
   ]
  },
  {
   "cell_type": "code",
   "execution_count": 26,
   "metadata": {},
   "outputs": [
    {
     "name": "stdout",
     "output_type": "stream",
     "text": [
      "torch.Size([10, 784]) torch.Size([10])\n"
     ]
    },
    {
     "data": {
      "text/plain": [
       "[Parameter containing:\n",
       " tensor([[ 0.0192,  0.0251,  0.0052,  ..., -0.0156,  0.0232,  0.0020],\n",
       "         [-0.0248, -0.0116, -0.0020,  ...,  0.0125, -0.0191, -0.0143],\n",
       "         [-0.0085,  0.0318,  0.0107,  ..., -0.0227, -0.0321,  0.0123],\n",
       "         ...,\n",
       "         [-0.0220, -0.0042, -0.0213,  ...,  0.0201,  0.0291,  0.0113],\n",
       "         [ 0.0190, -0.0068, -0.0262,  ...,  0.0141,  0.0166,  0.0164],\n",
       "         [ 0.0323, -0.0340, -0.0144,  ...,  0.0029,  0.0217, -0.0342]],\n",
       "        requires_grad=True),\n",
       " Parameter containing:\n",
       " tensor([ 0.0232,  0.0236, -0.0245,  0.0162,  0.0187, -0.0082,  0.0261,  0.0265,\n",
       "         -0.0220, -0.0062], requires_grad=True)]"
      ]
     },
     "execution_count": 26,
     "metadata": {},
     "output_type": "execute_result"
    }
   ],
   "source": [
    "print(model.linear.weight.shape, model.linear.bias.shape)\n",
    "list(model.parameters())"
   ]
  },
  {
   "cell_type": "code",
   "execution_count": 27,
   "metadata": {},
   "outputs": [
    {
     "name": "stdout",
     "output_type": "stream",
     "text": [
      "output.shape : torch.Size([100, 10])\n",
      "Sample output :\n",
      " tensor([[ 0.2681,  0.1975,  0.3730, -0.3272,  0.4500, -0.3703, -0.2138,  0.3878,\n",
      "         -0.0190, -0.1710],\n",
      "        [-0.1247, -0.0056,  0.1166, -0.1621, -0.0195, -0.1930, -0.2301, -0.0412,\n",
      "         -0.3085, -0.1742]])\n"
     ]
    }
   ],
   "source": [
    "for images, labels in train_loader:\n",
    "    outputs = model(images)\n",
    "    break\n",
    "\n",
    "print(f'output.shape : {outputs.shape}')\n",
    "print(f'Sample output :\\n {outputs[:2].data}')"
   ]
  },
  {
   "cell_type": "code",
   "execution_count": 28,
   "metadata": {},
   "outputs": [],
   "source": [
    "def softmax(v):\n",
    "    denom = torch.sum(torch.exp(v))\n",
    "    res = []\n",
    "    for i in v:\n",
    "        res.append(torch.exp(v[i]) / denom)\n",
    "    return torch.tensor(res, dtype=torch.float64)\n"
   ]
  },
  {
   "cell_type": "code",
   "execution_count": 29,
   "metadata": {},
   "outputs": [],
   "source": [
    "import torch.nn.functional as F"
   ]
  },
  {
   "cell_type": "code",
   "execution_count": 30,
   "metadata": {},
   "outputs": [
    {
     "name": "stdout",
     "output_type": "stream",
     "text": [
      "Sample Probabilities:\n",
      "tensor([[0.1182, 0.1101, 0.1313, 0.0652, 0.1418, 0.0624, 0.0730, 0.1332, 0.0887,\n",
      "         0.0762],\n",
      "        [0.0982, 0.1107, 0.1251, 0.0946, 0.1091, 0.0918, 0.0884, 0.1068, 0.0818,\n",
      "         0.0935]])\n",
      "Sum: 0.9999999403953552\n"
     ]
    }
   ],
   "source": [
    "# apply softmax for each output row\n",
    "probs = F.softmax(outputs, dim=1)\n",
    "\n",
    "# look at sample probabilities \n",
    "print(f\"Sample Probabilities:\\n{probs[:2].data}\")\n",
    "\n",
    "# add up the probabilities of an output row\n",
    "print(f\"Sum: {torch.sum(probs[0]).item()}\")"
   ]
  },
  {
   "cell_type": "code",
   "execution_count": 31,
   "metadata": {},
   "outputs": [
    {
     "name": "stdout",
     "output_type": "stream",
     "text": [
      "tensor([4, 2, 2, 7, 4, 2, 4, 7, 1, 7, 7, 7, 2, 2, 4, 4, 1, 1, 2, 6, 7, 4, 2, 4,\n",
      "        1, 1, 1, 7, 1, 1, 1, 1, 1, 2, 4, 2, 2, 7, 4, 2, 0, 1, 1, 7, 7, 2, 7, 1,\n",
      "        1, 4, 4, 4, 4, 1, 4, 1, 2, 2, 2, 4, 4, 4, 0, 6, 7, 1, 7, 0, 1, 1, 1, 2,\n",
      "        2, 7, 4, 7, 1, 2, 4, 1, 7, 2, 1, 4, 4, 0, 4, 2, 0, 7, 4, 2, 4, 2, 1, 7,\n",
      "        1, 7, 7, 6])\n",
      "tensor([0.1418, 0.1251, 0.1419, 0.1459, 0.1402, 0.1310, 0.1241, 0.1219, 0.1445,\n",
      "        0.1323, 0.1301, 0.1429, 0.1476, 0.1233, 0.1078, 0.1395, 0.1335, 0.1324,\n",
      "        0.1202, 0.1181, 0.1264, 0.1159, 0.1172, 0.1676, 0.1245, 0.1254, 0.1254,\n",
      "        0.1526, 0.1343, 0.1448, 0.1373, 0.1181, 0.1270, 0.1730, 0.1135, 0.1217,\n",
      "        0.1188, 0.1625, 0.1433, 0.1354, 0.1276, 0.1362, 0.1199, 0.1371, 0.1212,\n",
      "        0.1193, 0.1256, 0.1187, 0.1134, 0.1591, 0.1385, 0.1485, 0.1167, 0.1514,\n",
      "        0.1261, 0.1148, 0.1212, 0.1226, 0.1885, 0.1338, 0.1222, 0.1445, 0.1239,\n",
      "        0.1245, 0.1151, 0.1264, 0.1592, 0.1138, 0.1318, 0.1304, 0.1301, 0.1582,\n",
      "        0.1430, 0.1377, 0.1157, 0.1162, 0.1212, 0.1259, 0.1399, 0.1302, 0.1285,\n",
      "        0.1147, 0.1482, 0.1345, 0.1326, 0.1309, 0.1390, 0.1393, 0.1189, 0.1278,\n",
      "        0.1263, 0.1696, 0.1510, 0.1298, 0.1417, 0.1123, 0.1448, 0.1637, 0.1408,\n",
      "        0.1289], grad_fn=<MaxBackward0>)\n"
     ]
    }
   ],
   "source": [
    "max_probs, preds = torch.max(probs, dim=1)\n",
    "print(preds)\n",
    "print(max_probs)"
   ]
  },
  {
   "cell_type": "code",
   "execution_count": 32,
   "metadata": {},
   "outputs": [
    {
     "data": {
      "text/plain": [
       "tensor([2, 2, 2, 0, 3, 6, 1, 3, 0, 6, 4, 8, 8, 5, 1, 0, 3, 5, 2, 9, 6, 1, 9, 7,\n",
       "        6, 5, 3, 0, 3, 2, 7, 1, 3, 2, 6, 9, 2, 4, 7, 2, 7, 9, 6, 6, 4, 7, 5, 1,\n",
       "        6, 7, 7, 9, 1, 5, 6, 3, 2, 2, 2, 8, 7, 2, 3, 5, 9, 8, 0, 5, 1, 5, 8, 8,\n",
       "        5, 8, 1, 4, 5, 2, 0, 1, 4, 1, 3, 0, 9, 3, 5, 8, 6, 4, 4, 8, 0, 4, 1, 1,\n",
       "        3, 6, 6, 5])"
      ]
     },
     "execution_count": 32,
     "metadata": {},
     "output_type": "execute_result"
    }
   ],
   "source": [
    "labels"
   ]
  },
  {
   "cell_type": "code",
   "execution_count": 33,
   "metadata": {},
   "outputs": [],
   "source": [
    "def accuracy(l1, l2):\n",
    "    return torch.sum(l1 == l2).item() / len(l1)"
   ]
  },
  {
   "cell_type": "code",
   "execution_count": 34,
   "metadata": {},
   "outputs": [
    {
     "data": {
      "text/plain": [
       "0.16"
      ]
     },
     "execution_count": 34,
     "metadata": {},
     "output_type": "execute_result"
    }
   ],
   "source": [
    "accuracy(preds, labels)"
   ]
  },
  {
   "cell_type": "code",
   "execution_count": 35,
   "metadata": {},
   "outputs": [
    {
     "data": {
      "text/plain": [
       "[0, 0, 2, 0, 0, 0, 0, 0, 0, 0]"
      ]
     },
     "execution_count": 35,
     "metadata": {},
     "output_type": "execute_result"
    }
   ],
   "source": [
    "[0, 0, 0, 0, 0, 0, 0, 0, 0, 1] # 9\n",
    "[0, 0, 2, 0, 0, 0, 0, 0, 0, 0] # 2\n",
    "# real_label * log(predicted_probabiltiy)"
   ]
  },
  {
   "cell_type": "code",
   "execution_count": 36,
   "metadata": {},
   "outputs": [],
   "source": [
    "loss_fn = F.cross_entropy # softmax internally -> cross entropy"
   ]
  },
  {
   "cell_type": "code",
   "execution_count": 73,
   "metadata": {},
   "outputs": [
    {
     "name": "stdout",
     "output_type": "stream",
     "text": [
      "(tensor([ 0.2681,  0.1975,  0.3730, -0.3272,  0.4500, -0.3703, -0.2138,  0.3878,\n",
      "        -0.0190, -0.1710], grad_fn=<SelectBackward0>), tensor(2))\n",
      "tensor(2.3241, grad_fn=<NllLossBackward0>)\n"
     ]
    }
   ],
   "source": [
    "loss = loss_fn(outputs, labels)\n",
    "print((outputs[0], labels[0]))\n",
    "print(loss)"
   ]
  },
  {
   "cell_type": "code",
   "execution_count": 38,
   "metadata": {},
   "outputs": [],
   "source": [
    "learnin_rate = 0.001\n",
    "optimizer = torch.optim.SGD(model.parameters(), lr=learnin_rate)"
   ]
  },
  {
   "cell_type": "code",
   "execution_count": 39,
   "metadata": {},
   "outputs": [],
   "source": [
    "def loss_batch(model, loss_func, xb, yb, opt=None, metric=None):\n",
    "    # calculate loss and make predictions\n",
    "    preds = model(xb)\n",
    "    # yb = torch.tensor(yb, dtype=torch.float64)\n",
    "    # preds = torch.tensor(preds, dtype=torch.float64)\n",
    "    loss = loss_func(preds, yb)\n",
    "\n",
    "    if opt is not None:\n",
    "        # compute gradients\n",
    "        loss.backward()\n",
    "        # update parameters\n",
    "        opt.step()\n",
    "        # reset gradients\n",
    "        opt.zero_grad()\n",
    "    \n",
    "    metric_result = None\n",
    "    if metric is not None:\n",
    "        # Compute metics\n",
    "        metric_result = metric(preds, yb)\n",
    "    \n",
    "    return loss.item(), len(xb), metric_result"
   ]
  },
  {
   "cell_type": "code",
   "execution_count": 40,
   "metadata": {},
   "outputs": [],
   "source": [
    "def evaluate(model, loss_fn, valid_dl, metric=None):\n",
    "    with torch.no_grad():\n",
    "        # pass each batch through the model\n",
    "        results = [loss_batch(model, loss_fn, xb, yb, metric=metric)\n",
    "                    for xb, yb in valid_dl]\n",
    "        # sepearte losses, counts and metics\n",
    "        losses, nums, metrics = zip(*results)\n",
    "        # total size of the datasets\n",
    "        total = np.sum(nums)\n",
    "        avg_loss = np.sum(np.multiply(losses, nums)) / total\n",
    "        avg_metric = None\n",
    "        if metric is not None:\n",
    "            # avg of metric across batches \n",
    "            avg_metric = np.sum(np.multiply(metrics, nums)) / total\n",
    "        return avg_loss, total, avg_metric"
   ]
  },
  {
   "cell_type": "code",
   "execution_count": 41,
   "metadata": {},
   "outputs": [],
   "source": [
    "def accuracy(outputs, labels):\n",
    "    _, preds = torch.max(outputs, dim=1)\n",
    "    return torch.sum(preds == labels).item() / len(preds)\n"
   ]
  },
  {
   "cell_type": "code",
   "execution_count": 42,
   "metadata": {},
   "outputs": [
    {
     "name": "stdout",
     "output_type": "stream",
     "text": [
      "Loss: 2.3203, Accuracy: 0.1400\n"
     ]
    }
   ],
   "source": [
    "val_loss, total_val, val_acc = evaluate(model, loss_fn, val_loader, metric=accuracy)\n",
    "print(f\"Loss: {val_loss:.4f}, Accuracy: {val_acc:.4f}\")"
   ]
  },
  {
   "cell_type": "code",
   "execution_count": 46,
   "metadata": {},
   "outputs": [],
   "source": [
    "def fit(epochs, model, loss_fn, opt, train_dl, valid_dl, metric=None):\n",
    "    for epoch in range(epochs):\n",
    "        # traning\n",
    "        for xb, yb in train_dl:\n",
    "            loss, _, _ = loss_batch(model, loss_fn, xb, yb, opt)\n",
    "\n",
    "        # evalution\n",
    "        result = evaluate(model, loss_fn, valid_dl, metric)\n",
    "        val_loss, total, val_metirc = result\n",
    "\n",
    "        # print progress\n",
    "        if metric is not None:\n",
    "            print(f'Epoch [{epoch + 1}/{epochs}], Loss: {val_loss:.4f}')\n",
    "        else:\n",
    "            print(f'Epoch [{epoch + 1}/{epochs}], Loss: {val_loss:.4f}, {metric.__name__}: {val_metirc::.4f}')"
   ]
  },
  {
   "cell_type": "code",
   "execution_count": 47,
   "metadata": {},
   "outputs": [],
   "source": [
    "# redefining the model\n",
    "model = MnistModel()\n",
    "optimizer = torch.optim.SGD(model.parameters(), lr=learnin_rate)"
   ]
  },
  {
   "cell_type": "code",
   "execution_count": 48,
   "metadata": {},
   "outputs": [
    {
     "name": "stdout",
     "output_type": "stream",
     "text": [
      "Epoch [1/5], Loss: 1.8808\n",
      "Epoch [2/5], Loss: 1.5768\n",
      "Epoch [3/5], Loss: 1.3642\n",
      "Epoch [4/5], Loss: 1.2118\n",
      "Epoch [5/5], Loss: 1.0991\n"
     ]
    }
   ],
   "source": [
    "fit(5, model, F.cross_entropy, optimizer, train_loader, val_loader, accuracy)"
   ]
  },
  {
   "cell_type": "code",
   "execution_count": 49,
   "metadata": {},
   "outputs": [
    {
     "name": "stdout",
     "output_type": "stream",
     "text": [
      "Epoch [1/5], Loss: 1.0127\n",
      "Epoch [2/5], Loss: 0.9447\n",
      "Epoch [3/5], Loss: 0.8898\n",
      "Epoch [4/5], Loss: 0.8444\n",
      "Epoch [5/5], Loss: 0.8065\n"
     ]
    }
   ],
   "source": [
    "fit(5, model, F.cross_entropy, optimizer, train_loader, val_loader, accuracy)"
   ]
  },
  {
   "cell_type": "code",
   "execution_count": 50,
   "metadata": {},
   "outputs": [
    {
     "name": "stdout",
     "output_type": "stream",
     "text": [
      "Epoch [1/5], Loss: 0.7740\n",
      "Epoch [2/5], Loss: 0.7461\n",
      "Epoch [3/5], Loss: 0.7217\n",
      "Epoch [4/5], Loss: 0.7002\n",
      "Epoch [5/5], Loss: 0.6811\n"
     ]
    }
   ],
   "source": [
    "fit(5, model, F.cross_entropy, optimizer, train_loader, val_loader, accuracy)"
   ]
  },
  {
   "cell_type": "code",
   "execution_count": 51,
   "metadata": {},
   "outputs": [
    {
     "name": "stdout",
     "output_type": "stream",
     "text": [
      "Epoch [1/5], Loss: 0.6640\n",
      "Epoch [2/5], Loss: 0.6485\n",
      "Epoch [3/5], Loss: 0.6345\n",
      "Epoch [4/5], Loss: 0.6218\n",
      "Epoch [5/5], Loss: 0.6101\n"
     ]
    }
   ],
   "source": [
    "fit(5, model, F.cross_entropy, optimizer, train_loader, val_loader, accuracy)"
   ]
  },
  {
   "cell_type": "code",
   "execution_count": 52,
   "metadata": {},
   "outputs": [],
   "source": [
    "test_dataset = MNIST(root='data/',\n",
    "                     train=False,\n",
    "                     transform=transforms.ToTensor())\n"
   ]
  },
  {
   "cell_type": "code",
   "execution_count": 53,
   "metadata": {},
   "outputs": [
    {
     "name": "stdout",
     "output_type": "stream",
     "text": [
      "Shape: torch.Size([1, 28, 28])\n",
      "Label: 7\n"
     ]
    },
    {
     "data": {
      "image/png": "[encoded data removed]",
      "text/plain": [
       "<Figure size 432x288 with 1 Axes>"
      ]
     },
     "metadata": {
      "needs_background": "light"
     },
     "output_type": "display_data"
    }
   ],
   "source": [
    "img, label = test_dataset[0]\n",
    "plt.imshow(img[0], cmap='gray')\n",
    "print(f'Shape: {img.shape}')\n",
    "print(f'Label: {label}')"
   ]
  },
  {
   "cell_type": "code",
   "execution_count": 54,
   "metadata": {},
   "outputs": [
    {
     "data": {
      "text/plain": [
       "torch.Size([1, 1, 28, 28])"
      ]
     },
     "execution_count": 54,
     "metadata": {},
     "output_type": "execute_result"
    }
   ],
   "source": [
    "img.unsqueeze(0).shape"
   ]
  },
  {
   "cell_type": "code",
   "execution_count": 55,
   "metadata": {},
   "outputs": [],
   "source": [
    "def predict_image(img, model):\n",
    "    xb = img.unsqueeze(0)\n",
    "    yb = model(xb)\n",
    "    _, preds = torch.max(yb, dim=1)\n",
    "    return preds[0].item()"
   ]
  },
  {
   "cell_type": "code",
   "execution_count": 56,
   "metadata": {},
   "outputs": [
    {
     "name": "stdout",
     "output_type": "stream",
     "text": [
      "Label: 7, Predicted: 7\n"
     ]
    },
    {
     "data": {
      "image/png": "[encoded data removed]",
      "text/plain": [
       "<Figure size 432x288 with 1 Axes>"
      ]
     },
     "metadata": {
      "needs_background": "light"
     },
     "output_type": "display_data"
    }
   ],
   "source": [
    "x = 0\n",
    "img, label = test_dataset[x]\n",
    "plt.imshow(img[0], cmap='gray')\n",
    "print(f'Label: {label}, Predicted: {predict_image(img, model)}')"
   ]
  },
  {
   "cell_type": "code",
   "execution_count": 58,
   "metadata": {},
   "outputs": [
    {
     "name": "stdout",
     "output_type": "stream",
     "text": [
      "Label: 0, Predicted: 0\n"
     ]
    },
    {
     "data": {
      "image/png": "[encoded data removed]",
      "text/plain": [
       "<Figure size 432x288 with 1 Axes>"
      ]
     },
     "metadata": {
      "needs_background": "light"
     },
     "output_type": "display_data"
    }
   ],
   "source": [
    "x = 10\n",
    "img, label = test_dataset[x]\n",
    "plt.imshow(img[0], cmap='gray')\n",
    "print(f'Label: {label}, Predicted: {predict_image(img, model)}')"
   ]
  },
  {
   "cell_type": "code",
   "execution_count": 59,
   "metadata": {},
   "outputs": [
    {
     "name": "stdout",
     "output_type": "stream",
     "text": [
      "Label: 9, Predicted: 9\n"
     ]
    },
    {
     "data": {
      "image/png": "[encoded data removed]",
      "text/plain": [
       "<Figure size 432x288 with 1 Axes>"
      ]
     },
     "metadata": {
      "needs_background": "light"
     },
     "output_type": "display_data"
    }
   ],
   "source": [
    "x = 193\n",
    "img, label = test_dataset[x]\n",
    "plt.imshow(img[0], cmap='gray')\n",
    "print(f'Label: {label}, Predicted: {predict_image(img, model)}')"
   ]
  },
  {
   "cell_type": "code",
   "execution_count": 60,
   "metadata": {},
   "outputs": [
    {
     "name": "stdout",
     "output_type": "stream",
     "text": [
      "Label: 2, Predicted: 8\n"
     ]
    },
    {
     "data": {
      "image/png": "[encoded data removed]",
      "text/plain": [
       "<Figure size 432x288 with 1 Axes>"
      ]
     },
     "metadata": {
      "needs_background": "light"
     },
     "output_type": "display_data"
    }
   ],
   "source": [
    "x = 1839\n",
    "img, label = test_dataset[x]\n",
    "plt.imshow(img[0], cmap='gray')\n",
    "print(f'Label: {label}, Predicted: {predict_image(img, model)}')"
   ]
  },
  {
   "cell_type": "code",
   "execution_count": 61,
   "metadata": {},
   "outputs": [
    {
     "name": "stdout",
     "output_type": "stream",
     "text": [
      "Loss: 0.5948, Accuracy: 0.8717\n"
     ]
    }
   ],
   "source": [
    "test_loader = DataLoader(test_dataset, batch_size=200)\n",
    "test_loss, total, test_acc = evaluate(model, loss_fn, test_loader, metric=accuracy)\n",
    "print(f'Loss: {test_loss:.4f}, Accuracy: {test_acc:.4f}')"
   ]
  },
  {
   "cell_type": "code",
   "execution_count": 63,
   "metadata": {},
   "outputs": [],
   "source": [
    "torch.save(model.state_dict(), 'mnist-logistic.pth')"
   ]
  },
  {
   "cell_type": "code",
   "execution_count": 64,
   "metadata": {},
   "outputs": [
    {
     "data": {
      "text/plain": [
       "OrderedDict([('linear.weight',\n",
       "              tensor([[ 0.0035,  0.0139,  0.0037,  ...,  0.0181, -0.0083,  0.0077],\n",
       "                      [ 0.0085, -0.0312, -0.0079,  ..., -0.0330, -0.0116, -0.0283],\n",
       "                      [-0.0321,  0.0300,  0.0169,  ..., -0.0241,  0.0250,  0.0119],\n",
       "                      ...,\n",
       "                      [ 0.0163,  0.0057,  0.0007,  ...,  0.0109, -0.0071, -0.0075],\n",
       "                      [-0.0133,  0.0201,  0.0180,  ..., -0.0080,  0.0125, -0.0266],\n",
       "                      [-0.0292,  0.0334,  0.0036,  ...,  0.0115,  0.0328,  0.0038]])),\n",
       "             ('linear.bias',\n",
       "              tensor([-0.0418,  0.1061, -0.0541, -0.0338,  0.0365,  0.0726, -0.0071,  0.0647,\n",
       "                      -0.1259,  0.0019]))])"
      ]
     },
     "execution_count": 64,
     "metadata": {},
     "output_type": "execute_result"
    }
   ],
   "source": [
    "model.state_dict()"
   ]
  },
  {
   "cell_type": "code",
   "execution_count": 65,
   "metadata": {},
   "outputs": [
    {
     "data": {
      "text/plain": [
       "OrderedDict([('linear.weight',\n",
       "              tensor([[ 0.0035,  0.0139,  0.0037,  ...,  0.0181, -0.0083,  0.0077],\n",
       "                      [ 0.0085, -0.0312, -0.0079,  ..., -0.0330, -0.0116, -0.0283],\n",
       "                      [-0.0321,  0.0300,  0.0169,  ..., -0.0241,  0.0250,  0.0119],\n",
       "                      ...,\n",
       "                      [ 0.0163,  0.0057,  0.0007,  ...,  0.0109, -0.0071, -0.0075],\n",
       "                      [-0.0133,  0.0201,  0.0180,  ..., -0.0080,  0.0125, -0.0266],\n",
       "                      [-0.0292,  0.0334,  0.0036,  ...,  0.0115,  0.0328,  0.0038]])),\n",
       "             ('linear.bias',\n",
       "              tensor([-0.0418,  0.1061, -0.0541, -0.0338,  0.0365,  0.0726, -0.0071,  0.0647,\n",
       "                      -0.1259,  0.0019]))])"
      ]
     },
     "execution_count": 65,
     "metadata": {},
     "output_type": "execute_result"
    }
   ],
   "source": [
    "model2 = MnistModel()\n",
    "model2.load_state_dict(torch.load('mnist-logistic.pth'))\n",
    "model2.state_dict()"
   ]
  },
  {
   "cell_type": "code",
   "execution_count": 66,
   "metadata": {},
   "outputs": [
    {
     "name": "stdout",
     "output_type": "stream",
     "text": [
      "Loss: 0.5948, Accuracy: 0.8717\n"
     ]
    }
   ],
   "source": [
    "test_loader = DataLoader(test_dataset, batch_size=200)\n",
    "test_loss, total, test_acc = evaluate(model2, loss_fn, test_loader, metric=accuracy)\n",
    "print(f'Loss: {test_loss:.4f}, Accuracy: {test_acc:.4f}')"
   ]
  },
  {
   "cell_type": "code",
   "execution_count": 71,
   "metadata": {},
   "outputs": [
    {
     "data": {
      "text/plain": [
       "torch.Size([100, 1, 28, 28])"
      ]
     },
     "execution_count": 71,
     "metadata": {},
     "output_type": "execute_result"
    }
   ],
   "source": [
    "list(train_loader)[0][0].shape"
   ]
  },
  {
   "cell_type": "code",
   "execution_count": null,
   "metadata": {},
   "outputs": [],
   "source": []
  }
 ],
 "metadata": {
  "kernelspec": {
   "display_name": "Python 3.10.2 ('venv': venv)",
   "language": "python",
   "name": "python3"
  },
  "language_info": {
   "codemirror_mode": {
    "name": "ipython",
    "version": 3
   },
   "file_extension": ".py",
   "mimetype": "text/x-python",
   "name": "python",
   "nbconvert_exporter": "python",
   "pygments_lexer": "ipython3",
   "version": "3.10.2"
  },
  "orig_nbformat": 4,
  "vscode": {
   "interpreter": {
    "hash": "f24e713387d3c3f1338d96f5f36f4cc155a8d1a9289315c4528c03132d21f819"
   }
  }
 },
 "nbformat": 4,
 "nbformat_minor": 2
}
